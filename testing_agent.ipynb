{
 "cells": [
  {
   "cell_type": "code",
   "execution_count": null,
   "id": "c0c80781",
   "metadata": {},
   "outputs": [],
   "source": [
    "from agentic_graph_rag import MovieRAGAgent\n",
    "\n",
    "agent_model = \"gpt-4.1-mini\"\n",
    "embedding_model_name = \"intfloat/e5-base-v2\"\n",
    "\n",
    "agent_cls = MovieRAGAgent(\n",
    "    embedding_model=embedding_model_name, \n",
    "    agent_model=agent_model\n",
    ")"
   ]
  },
  {
   "cell_type": "code",
   "execution_count": null,
   "id": "b17af27d",
   "metadata": {},
   "outputs": [],
   "source": [
    "query = \"Which all movies released before 2003 where Quentin Tarantino is involved in any way, also explain the connection with each movie?\"\n",
    "response1 = agent_cls.tool_agent(query)"
   ]
  },
  {
   "cell_type": "code",
   "execution_count": null,
   "id": "512706bd",
   "metadata": {},
   "outputs": [],
   "source": [
    "response2 = agent_cls.code_agent(query)"
   ]
  },
  {
   "cell_type": "code",
   "execution_count": null,
   "id": "0fb4cf3b",
   "metadata": {},
   "outputs": [],
   "source": [
    "print(\"\\n TOOL AGENT:\\n\")\n",
    "print(response1)\n",
    "print(\"-----\")\n",
    "print(\"\\n\\n CODE AGENT:\\n\")\n",
    "print(response2)"
   ]
  },
  {
   "cell_type": "code",
   "execution_count": null,
   "id": "221f0770",
   "metadata": {},
   "outputs": [],
   "source": [
    "query = \"Find top 10 movies similar to Inception theme and rank them by popularity with relationship explained\"\n",
    "response1 = agent_cls.tool_agent(query)"
   ]
  },
  {
   "cell_type": "code",
   "execution_count": null,
   "id": "76fecb3b",
   "metadata": {},
   "outputs": [],
   "source": [
    "response2 = agent_cls.code_agent(query)"
   ]
  },
  {
   "cell_type": "code",
   "execution_count": null,
   "id": "da10cccb",
   "metadata": {},
   "outputs": [],
   "source": [
    "print(\"\\n TOOL AGENT:\\n\")\n",
    "print(response1)\n",
    "print(\"-----\")\n",
    "print(\"\\n\\n CODE AGENT:\\n\")\n",
    "print(response2)"
   ]
  },
  {
   "cell_type": "code",
   "execution_count": null,
   "id": "380c84e8",
   "metadata": {},
   "outputs": [],
   "source": [
    "query = \"How is Tom Hanks connected to Christopher Nolan through co-actors or movies?\"\n",
    "response1 = agent_cls.tool_agent(query)"
   ]
  },
  {
   "cell_type": "code",
   "execution_count": null,
   "id": "6af3a644",
   "metadata": {},
   "outputs": [],
   "source": [
    "response2 = agent_cls.code_agent(query)"
   ]
  },
  {
   "cell_type": "code",
   "execution_count": null,
   "id": "bc7270e3",
   "metadata": {},
   "outputs": [],
   "source": [
    "print(\"\\n TOOL AGENT:\\n\")\n",
    "print(response1)\n",
    "print(\"-----\")\n",
    "print(\"\\n\\n CODE AGENT:\\n\")\n",
    "print(response2)"
   ]
  },
  {
   "cell_type": "code",
   "execution_count": null,
   "id": "2dc84ed5",
   "metadata": {},
   "outputs": [],
   "source": [
    "query = \"Which directors worked with both Leonardo DiCaprio and Brad Pitt, and on which movies?\"\n",
    "response1 = agent_cls.tool_agent(query)"
   ]
  },
  {
   "cell_type": "code",
   "execution_count": null,
   "id": "85865461",
   "metadata": {},
   "outputs": [],
   "source": [
    "response2 = agent_cls.code_agent(query)"
   ]
  },
  {
   "cell_type": "code",
   "execution_count": null,
   "id": "653af3dc",
   "metadata": {},
   "outputs": [],
   "source": [
    "print(\"\\n TOOL AGENT:\\n\")\n",
    "print(response1)\n",
    "print(\"-----\")\n",
    "print(\"\\n\\n CODE AGENT:\\n\")\n",
    "print(response2)"
   ]
  },
  {
   "cell_type": "code",
   "execution_count": null,
   "id": "57279fec",
   "metadata": {},
   "outputs": [],
   "source": [
    "query = \"Find all movies where Christopher Nolan worked with actor who also worked with Tim Burton, give the actor name and the associated movies with each of them\"\n",
    "response1 = agent_cls.tool_agent(query)"
   ]
  },
  {
   "cell_type": "code",
   "execution_count": null,
   "id": "e8650ceb",
   "metadata": {},
   "outputs": [],
   "source": [
    "response2 = agent_cls.code_agent(query)"
   ]
  },
  {
   "cell_type": "code",
   "execution_count": null,
   "id": "ec003c2a",
   "metadata": {},
   "outputs": [],
   "source": [
    "print(\"\\n TOOL AGENT:\\n\")\n",
    "print(response1)\n",
    "print(\"-----\")\n",
    "print(\"\\n\\n CODE AGENT:\\n\")\n",
    "print(response2)"
   ]
  }
 ],
 "metadata": {
  "kernelspec": {
   "display_name": "test_env",
   "language": "python",
   "name": "python3"
  },
  "language_info": {
   "codemirror_mode": {
    "name": "ipython",
    "version": 3
   },
   "file_extension": ".py",
   "mimetype": "text/x-python",
   "name": "python",
   "nbconvert_exporter": "python",
   "pygments_lexer": "ipython3",
   "version": "3.10.15"
  }
 },
 "nbformat": 4,
 "nbformat_minor": 5
}
